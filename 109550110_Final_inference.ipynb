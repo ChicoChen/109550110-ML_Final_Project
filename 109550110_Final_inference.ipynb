{
 "cells": [
  {
   "cell_type": "code",
   "execution_count": 1,
   "metadata": {},
   "outputs": [
    {
     "name": "stderr",
     "output_type": "stream",
     "text": [
      "c:\\Users\\R5 3600\\AppData\\Local\\Programs\\Python\\Python39\\lib\\site-packages\\scipy\\__init__.py:146: UserWarning: A NumPy version >=1.16.5 and <1.23.0 is required for this version of SciPy (detected version 1.23.4\n",
      "  warnings.warn(f\"A NumPy version >={np_minversion} and <{np_maxversion}\"\n"
     ]
    }
   ],
   "source": [
    "import csv\n",
    "import random\n",
    "import numpy as np # linear algebra\n",
    "import pandas as pd \n",
    "\n",
    "from sklearn.linear_model import LogisticRegression\n",
    "from sklearn.impute import SimpleImputer\n",
    "from joblib import load\n",
    "\n",
    "input_path = ''\n",
    "my_model = load('109550110_LR_model.joblib')"
   ]
  },
  {
   "cell_type": "code",
   "execution_count": 2,
   "metadata": {},
   "outputs": [],
   "source": [
    "def data_extract(data_df):\n",
    "    data = data_df.iloc[:, :].values\n",
    "    for i, x in enumerate(data_df.dtypes):\n",
    "        if(x == 'object'): # [product_code, attribute_0, attribute_1]\n",
    "            if(len(data[0, i])) == 1: #product_code\n",
    "                data[:, i] = data[:, i].astype('str').view(np.int32) - ord('A')\n",
    "            else: #attribute\n",
    "                temp = data[:, i].astype('str')\n",
    "                data[:, i] = np.array([int(x[-1]) for x in temp])\n",
    "                \n",
    "        elif i != 0 and i != len(data[0]) - 1: # not in column 'ID' or 'failure'\n",
    "            imr = SimpleImputer(strategy = 'median')\n",
    "            data[:, i] = imr.fit_transform(data[:, i].reshape(-1, 1)).reshape(len(data[:, i]))\n",
    "            #scaler = StandardScaler()\n",
    "            #data[:, i] = scaler.fit_transform(data[:, i].reshape(-1, 1)).reshape(len(data[:, i]))\n",
    "            \n",
    "    return data[:, 1:] # get rid of [ID]"
   ]
  },
  {
   "cell_type": "code",
   "execution_count": 3,
   "metadata": {},
   "outputs": [
    {
     "name": "stdout",
     "output_type": "stream",
     "text": [
      "(20775, 25)\n"
     ]
    }
   ],
   "source": [
    "test_df = pd.read_csv(input_path +'test.csv')\n",
    "test_df.insert(len(test_df.columns), 'dummy', 0)\n",
    "ID = test_df.iloc[:,0].values\n",
    "\n",
    "test = data_extract(test_df)\n",
    "print(test.shape)"
   ]
  },
  {
   "cell_type": "code",
   "execution_count": 4,
   "metadata": {},
   "outputs": [],
   "source": [
    "test_x = test[:, :-1].astype('float')\n",
    "\n",
    "pred_prob = my_model.predict_proba(test_x)\n",
    "prob = pd.DataFrame({'id':ID, 'failure': pred_prob[:, 1].astype(float)})\n",
    "prob.to_csv('109550110_submission.csv', index=False)"
   ]
  }
 ],
 "metadata": {
  "kernelspec": {
   "display_name": "Python 3",
   "language": "python",
   "name": "python3"
  },
  "language_info": {
   "codemirror_mode": {
    "name": "ipython",
    "version": 3
   },
   "file_extension": ".py",
   "mimetype": "text/x-python",
   "name": "python",
   "nbconvert_exporter": "python",
   "pygments_lexer": "ipython3",
   "version": "3.9.0 (tags/v3.9.0:9cf6752, Oct  5 2020, 15:34:40) [MSC v.1927 64 bit (AMD64)]"
  },
  "orig_nbformat": 4,
  "vscode": {
   "interpreter": {
    "hash": "e1cf8f6360cef274536b7c5a809d987c651402a1f9b7869e07ccf17350259780"
   }
  }
 },
 "nbformat": 4,
 "nbformat_minor": 2
}
